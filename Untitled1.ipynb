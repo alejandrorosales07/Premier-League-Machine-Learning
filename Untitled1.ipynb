{
  "nbformat": 4,
  "nbformat_minor": 0,
  "metadata": {
    "colab": {
      "provenance": []
    },
    "kernelspec": {
      "name": "python3",
      "display_name": "Python 3"
    },
    "language_info": {
      "name": "python"
    }
  },
  "cells": [
    {
      "cell_type": "code",
      "execution_count": 17,
      "metadata": {
        "colab": {
          "base_uri": "https://localhost:8080/",
          "height": 233
        },
        "id": "UegaL3b19u4Z",
        "outputId": "99031776-f432-4ddc-fe3b-44386aca043f"
      },
      "outputs": [
        {
          "output_type": "stream",
          "name": "stderr",
          "text": [
            "/tmp/ipython-input-1273558186.py:32: DeprecationWarning: DataFrameGroupBy.apply operated on the grouping columns. This behavior is deprecated, and in a future version of pandas the grouping columns will be excluded from the operation. Either pass `include_groups=False` to exclude the groupings or explicitly select the grouping columns after groupby to silence this warning.\n",
            "  matches_rolling = matches.groupby(\"team\").apply(lambda x: rolling_averages(x, cols, new_cols))\n"
          ]
        },
        {
          "output_type": "execute_result",
          "data": {
            "text/plain": [
              "actual_x\n",
              "1    27\n",
              "0    13\n",
              "Name: count, dtype: int64"
            ],
            "text/html": [
              "<div>\n",
              "<style scoped>\n",
              "    .dataframe tbody tr th:only-of-type {\n",
              "        vertical-align: middle;\n",
              "    }\n",
              "\n",
              "    .dataframe tbody tr th {\n",
              "        vertical-align: top;\n",
              "    }\n",
              "\n",
              "    .dataframe thead th {\n",
              "        text-align: right;\n",
              "    }\n",
              "</style>\n",
              "<table border=\"1\" class=\"dataframe\">\n",
              "  <thead>\n",
              "    <tr style=\"text-align: right;\">\n",
              "      <th></th>\n",
              "      <th>count</th>\n",
              "    </tr>\n",
              "    <tr>\n",
              "      <th>actual_x</th>\n",
              "      <th></th>\n",
              "    </tr>\n",
              "  </thead>\n",
              "  <tbody>\n",
              "    <tr>\n",
              "      <th>1</th>\n",
              "      <td>27</td>\n",
              "    </tr>\n",
              "    <tr>\n",
              "      <th>0</th>\n",
              "      <td>13</td>\n",
              "    </tr>\n",
              "  </tbody>\n",
              "</table>\n",
              "</div><br><label><b>dtype:</b> int64</label>"
            ]
          },
          "metadata": {},
          "execution_count": 17
        }
      ],
      "source": [
        "import pandas as pd\n",
        "matches = pd.read_csv(\"/matches.csv\", index_col=0)\n",
        "matches[\"date\"] = pd.to_datetime(matches[\"date\"])\n",
        "matches[\"venue_code\"] = matches[\"venue\"].astype(\"category\").cat.codes\n",
        "matches[\"opp_code\"] = matches[\"opponent\"].astype(\"category\").cat.codes\n",
        "matches[\"hour\"] = matches[\"time\"].str.replace(\":.+\", \"\", regex=True).astype(\"int\")\n",
        "matches[\"daycode\"] = matches[\"date\"].dt.dayofweek\n",
        "matches[\"target\"] = (matches[\"result\"] == \"W\").astype(\"int\")\n",
        "from sklearn.ensemble import RandomForestClassifier\n",
        "rf = RandomForestClassifier(n_estimators=50, min_samples_split=10, random_state=1)\n",
        "train = matches[\"date\"] < '2022-01-01'\n",
        "test = matches[\"date\"] > '2022-01-01'\n",
        "predictors = [ \"venue_code\", \"opp_code\", \"hour\", \"daycode\"]\n",
        "rf.fit(matches.loc[train, predictors], matches.loc[train, \"target\"])\n",
        "RandomForestClassifier(n_estimators=50, min_samples_split=10, random_state=1)\n",
        "preds = rf.predict(matches.loc[test, predictors])\n",
        "from sklearn.metrics import accuracy_score\n",
        "acc = accuracy_score(matches.loc[test, \"target\"], preds)\n",
        "combined = pd.DataFrame(dict(actual=matches.loc[test, \"target\"], prediction=preds))\n",
        "pd.crosstab(index=combined[\"actual\"], columns=combined[\"prediction\"])\n",
        "from sklearn.metrics import precision_score\n",
        "precision_score(matches.loc[test, \"target\"], preds)\n",
        "grouped_matches = matches.groupby(\"team\")\n",
        "def rolling_averages(group, cols, new_cols):\n",
        "  group = group.sort_values(\"date\")\n",
        "  rolling_stats = group[cols].rolling(3, closed='left').mean()\n",
        "  group[new_cols] = rolling_stats\n",
        "  group = group.dropna(subset=new_cols)\n",
        "  return group\n",
        "cols = [\"gf\", \"ga\", \"sh\", \"sot\", \"dist\", \"fk\", \"pk\", \"pkatt\"]\n",
        "new_cols = [f\"{c}_rolling\" for c in cols]\n",
        "matches_rolling = matches.groupby(\"team\").apply(lambda x: rolling_averages(x, cols, new_cols))\n",
        "matches_rolling = matches_rolling.droplevel('team')\n",
        "matches_rolling.index = range(matches_rolling.shape[0])\n",
        "def make_predictions(data, predictors):\n",
        "  train = data[\"date\"] < '2022-01-01'\n",
        "  test = data[\"date\"] > '2022-01-01'\n",
        "  rf.fit(data.loc[train, predictors], data.loc[train, \"target\"])\n",
        "  preds = rf.predict(data.loc[test, predictors])\n",
        "  combined = pd.DataFrame(dict(actual=data.loc[test, \"target\"], prediction=preds), index=data.loc[test, :].index)\n",
        "  precision = precision_score(combined[\"actual\"], combined[\"prediction\"])\n",
        "  return combined, precision\n",
        "combined, precision = make_predictions(matches_rolling, predictors + new_cols)\n",
        "combined = combined.merge(matches_rolling[[\"date\", \"team\", \"opponent\", \"result\"]], left_index=True, right_index=True)\n",
        "class MissingDict(dict):\n",
        "  __missing__ = lambda self, key: key\n",
        "map_values = {\n",
        "    \"Brighton and Hove Albion\": \"Brighton\",\n",
        "    \"Manchester United\": \"Manchester Utd\",\n",
        "    \"Newcastle United\": \"Newcastle Utd\",\n",
        "    \"Tottenham Hotspur\": \"Tottenham\",\n",
        "    \"West Ham United\": \"West Ham\",\n",
        "    \"Wolverhampton Wanderers\": \"Wolves\"\n",
        "              }\n",
        "mapping = MissingDict(**map_values)\n",
        "combined[\"new_team\"] = combined[\"team\"].map(mapping)\n",
        "merged = combined.merge(combined, left_on=[\"date\", \"new_team\"], right_on=[\"date\", \"opponent\"])\n",
        "merged[(merged[\"prediction_x\"] == 1) & (merged[\"prediction_y\"] ==0)][\"actual_x\"].value_counts()\n",
        "\n",
        "\n"
      ]
    }
  ]
}
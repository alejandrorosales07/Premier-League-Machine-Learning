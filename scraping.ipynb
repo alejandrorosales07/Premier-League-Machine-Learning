{
  "nbformat": 4,
  "nbformat_minor": 0,
  "metadata": {
    "colab": {
      "provenance": [],
      "authorship_tag": "ABX9TyPfjNTLyy6MjDakzWxzsw1n",
      "include_colab_link": true
    },
    "kernelspec": {
      "name": "python3",
      "display_name": "Python 3"
    },
    "language_info": {
      "name": "python"
    }
  },
  "cells": [
    {
      "cell_type": "markdown",
      "metadata": {
        "id": "view-in-github",
        "colab_type": "text"
      },
      "source": [
        "<a href=\"https://colab.research.google.com/github/alejandrorosales07/Premier-League-Machine-Learning/blob/main/scraping.ipynb\" target=\"_parent\"><img src=\"https://colab.research.google.com/assets/colab-badge.svg\" alt=\"Open In Colab\"/></a>"
      ]
    },
    {
      "cell_type": "code",
      "execution_count": null,
      "metadata": {
        "colab": {
          "base_uri": "https://localhost:8080/",
          "height": 233
        },
        "id": "UegaL3b19u4Z",
        "outputId": "99031776-f432-4ddc-fe3b-44386aca043f",
        "collapsed": true
      },
      "outputs": [
        {
          "output_type": "stream",
          "name": "stderr",
          "text": [
            "/tmp/ipython-input-1273558186.py:32: DeprecationWarning: DataFrameGroupBy.apply operated on the grouping columns. This behavior is deprecated, and in a future version of pandas the grouping columns will be excluded from the operation. Either pass `include_groups=False` to exclude the groupings or explicitly select the grouping columns after groupby to silence this warning.\n",
            "  matches_rolling = matches.groupby(\"team\").apply(lambda x: rolling_averages(x, cols, new_cols))\n"
          ]
        },
        {
          "output_type": "execute_result",
          "data": {
            "text/plain": [
              "actual_x\n",
              "1    27\n",
              "0    13\n",
              "Name: count, dtype: int64"
            ],
            "text/html": [
              "<div>\n",
              "<style scoped>\n",
              "    .dataframe tbody tr th:only-of-type {\n",
              "        vertical-align: middle;\n",
              "    }\n",
              "\n",
              "    .dataframe tbody tr th {\n",
              "        vertical-align: top;\n",
              "    }\n",
              "\n",
              "    .dataframe thead th {\n",
              "        text-align: right;\n",
              "    }\n",
              "</style>\n",
              "<table border=\"1\" class=\"dataframe\">\n",
              "  <thead>\n",
              "    <tr style=\"text-align: right;\">\n",
              "      <th></th>\n",
              "      <th>count</th>\n",
              "    </tr>\n",
              "    <tr>\n",
              "      <th>actual_x</th>\n",
              "      <th></th>\n",
              "    </tr>\n",
              "  </thead>\n",
              "  <tbody>\n",
              "    <tr>\n",
              "      <th>1</th>\n",
              "      <td>27</td>\n",
              "    </tr>\n",
              "    <tr>\n",
              "      <th>0</th>\n",
              "      <td>13</td>\n",
              "    </tr>\n",
              "  </tbody>\n",
              "</table>\n",
              "</div><br><label><b>dtype:</b> int64</label>"
            ]
          },
          "metadata": {},
          "execution_count": 17
        }
      ],
      "source": [
        "import requests\n",
        "standings_url = \"https://fbref.com/en/comps/9/Premier-League-Stats\"\n",
        "data = requests.get(standings_url)\n",
        "from bs4 import BeautifulSoup\n",
        "soup = BeautifulSoup(data.text)\n",
        "standings_table = soup.select('table.stats_table')[0]\n",
        "links = standings_table.find_all('a')\n",
        "links = [l.get(\"href\") for l in links]\n",
        "links = [l for l in links if '/squads/' in l]\n",
        "team_urls = [f\"https://fbref.com{l}\" for l in links]\n",
        "data = requests.get(team_urls[0])\n",
        "import pandas as pd\n",
        "matches = pd.read_html(data.text, match=\"Scores & Fixtures\")[0]\n",
        "soup = BeautifulSoup(data.text)\n",
        "links = soup.find_all('a')\n",
        "links = [l.get(\"href\") for l in links]\n",
        "links = [l for l in links if l and 'all_comps/shooting/' in l]\n",
        "data = requests.get(f\"https://fbref.com{links[0]}\")\n",
        "shooting = pd.read_html(data.text, match=\"Shooting\")[0]\n",
        "shooting.head()\n",
        "shooting.columns = shooting.columns.droplevel()\n",
        "team_data = matches.merge(shooting[[\"Date\", \"Sh\", \"SoT\", \"Dist\", \"FK\", \"PK\", \"PKatt\"]], on=\"Date\")\n",
        "team_data.head()\n",
        "years = list(range(2022, 2020, -1))\n",
        "all_matches = []\n",
        "standings_url = \"https://fbref.com/en/comps/9/Premier-League-Stats\"\n",
        "import time\n",
        "for year in years:\n",
        "    data = requests.get(standings_url)\n",
        "    soup = BeautifulSoup(data.text)\n",
        "    standings_table = soup.select('table.stats_table')[0]\n",
        "\n",
        "    links = [l.get(\"href\") for l in standings_table.find_all('a')]\n",
        "    links = [l for l in links if '/squads/' in l]\n",
        "    team_urls = [f\"https://fbref.com{l}\" for l in links]\n",
        "\n",
        "    previous_season = soup.select(\"a.prev\")[0].get(\"href\")\n",
        "    standings_url = f\"https://fbref.com{previous_season}\"\n",
        "\n",
        "    for team_url in team_urls:\n",
        "        team_name = team_url.split(\"/\")[-1].replace(\"-Stats\", \"\").replace(\"-\", \" \")\n",
        "        data = requests.get(team_url)\n",
        "        matches = pd.read_html(data.text, match=\"Scores & Fixtures\")[0]\n",
        "        soup = BeautifulSoup(data.text)\n",
        "        links = [l.get(\"href\") for l in soup.find_all('a')]\n",
        "        links = [l for l in links if l and 'all_comps/shooting/' in l]\n",
        "        data = requests.get(f\"https://fbref.com{links[0]}\")\n",
        "        shooting = pd.read_html(data.text, match=\"Shooting\")[0]\n",
        "        shooting.columns = shooting.columns.droplevel()\n",
        "        try:\n",
        "            team_data = matches.merge(shooting[[\"Date\", \"Sh\", \"SoT\", \"Dist\", \"FK\", \"PK\", \"PKatt\"]], on=\"Date\")\n",
        "        except ValueError:\n",
        "            continue\n",
        "        team_data = team_data[team_data[\"Comp\"] == \"Premier League\"]\n",
        "\n",
        "        team_data[\"Season\"] = year\n",
        "        team_data[\"Team\"] = team_name\n",
        "        all_matches.append(team_data)\n",
        "        time.sleep(1)\n",
        "match_df = pd.concat(all_matches)\n",
        "match_df.columns = [c.lower() for c in match_df.columns]\n",
        "match_df.to_csv(\"matches.csv\")"
      ]
    }
  ]
}